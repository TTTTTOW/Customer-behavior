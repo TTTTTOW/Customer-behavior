{
 "cells": [
  {
   "cell_type": "code",
   "execution_count": 1,
   "id": "fea6c67e",
   "metadata": {},
   "outputs": [],
   "source": [
    "import pandas as pd\n",
    "data=pd.read_excel('../data/BlackFriday.xlsx')\n",
    "data.drop_duplicates(inplace=True)#去重"
   ]
  },
  {
   "cell_type": "code",
   "execution_count": 3,
   "id": "95d8538c",
   "metadata": {},
   "outputs": [
    {
     "data": {
      "text/plain": [
       "(6129.0, 9101.0]      163880\n",
       "(3157.0, 6129.0]      117122\n",
       "(9101.0, 12073.0]      81433\n",
       "(15045.0, 18017.0]     65436\n",
       "(161.224, 3157.0]      40768\n",
       "(18017.0, 20989.0]     39891\n",
       "(12073.0, 15045.0]     25511\n",
       "(20989.0, 23961.0]      3536\n",
       "Name: income_cut, dtype: int64"
      ]
     },
     "execution_count": 3,
     "metadata": {},
     "output_type": "execute_result"
    }
   ],
   "source": [
    "data['income_cut']=pd.cut(data['Purchase'],8)\n",
    "data['income_cut'].value_counts()"
   ]
  },
  {
   "cell_type": "code",
   "execution_count": null,
   "id": "292d3f6c",
   "metadata": {},
   "outputs": [],
   "source": []
  }
 ],
 "metadata": {
  "kernelspec": {
   "display_name": "Python 3 (ipykernel)",
   "language": "python",
   "name": "python3"
  },
  "language_info": {
   "codemirror_mode": {
    "name": "ipython",
    "version": 3
   },
   "file_extension": ".py",
   "mimetype": "text/x-python",
   "name": "python",
   "nbconvert_exporter": "python",
   "pygments_lexer": "ipython3",
   "version": "3.9.6"
  }
 },
 "nbformat": 4,
 "nbformat_minor": 5
}
